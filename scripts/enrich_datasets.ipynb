{
 "cells": [
  {
   "cell_type": "code",
   "execution_count": 1,
   "metadata": {},
   "outputs": [
    {
     "name": "stderr",
     "output_type": "stream",
     "text": [
      "c:\\Users\\sofik\\Documents\\Uni Konstanz\\SEDS\\Thesis\\master-thesis\\venv\\Lib\\site-packages\\tqdm\\auto.py:21: TqdmWarning: IProgress not found. Please update jupyter and ipywidgets. See https://ipywidgets.readthedocs.io/en/stable/user_install.html\n",
      "  from .autonotebook import tqdm as notebook_tqdm\n"
     ]
    }
   ],
   "source": [
    "import pandas as pd\n",
    "import os\n",
    "os.chdir(\"..\")\n",
    "#sys.path.append(\"/path/to/python/site-packages\")\n",
    "from utils.entity_extractor import EntityExtractor  \n",
    "from utils.topic_modeling import TopicModeling"
   ]
  },
  {
   "cell_type": "code",
   "execution_count": 4,
   "metadata": {},
   "outputs": [],
   "source": [
    "test= pd.read_csv(\"data/processed/babe.csv\").sample(300, random_state=42)\n",
    "test.to_csv(\"data/processed/test.csv\")"
   ]
  },
  {
   "cell_type": "code",
   "execution_count": 5,
   "metadata": {},
   "outputs": [
    {
     "name": "stderr",
     "output_type": "stream",
     "text": [
      "Fetching 8 files: 100%|██████████| 8/8 [00:00<?, ?it/s]\n"
     ]
    },
    {
     "name": "stdout",
     "output_type": "stream",
     "text": [
      "2025-01-14 18:05:48,240 SequenceTagger predicts: Dictionary with 20 tags: <unk>, O, S-ORG, S-MISC, B-PER, E-PER, S-LOC, B-ORG, E-ORG, I-PER, S-PER, B-MISC, I-MISC, E-MISC, I-ORG, B-LOC, E-LOC, I-LOC, <START>, <STOP>\n",
      "Initializing TopicModeling class...\n",
      "Initializing model...\n"
     ]
    }
   ],
   "source": [
    "datasets_file_paths = {\n",
    "    # \"annomatic\": \"data/processed/annomatic.csv\",\n",
    "    # \"babe\": \"data/processed/babe.csv\",\n",
    "    # \"basil\": \"data/processed/basil.csv\"\n",
    "    \"test\": \"data/processed/test.csv\"\n",
    "}\n",
    "output_dir = \"data/enriched/\"\n",
    "os.makedirs(output_dir, exist_ok=True)\n",
    "\n",
    "# Initialize tools\n",
    "entity_extractor = EntityExtractor()\n",
    "topic_modeling = TopicModeling(output_dir)\n",
    "\n",
    "def enrich_dataset(name, path):\n",
    "    \"\"\"\n",
    "    Process a single dataset with NER and Topic Modeling, merging results on `text`.\n",
    "    \"\"\"\n",
    "    # Load dataset\n",
    "    print(f\"Processing dataset: {name}\")\n",
    "    df = pd.read_csv(path)\n",
    "    \n",
    "    # Extract Entities\n",
    "    print(f\"Extracting entities for {name}...\")\n",
    "    processed_data = entity_extractor.process_data(df)\n",
    "\n",
    "    # Cluster the entities\n",
    "    df_entities = entity_extractor.cluster_entities(processed_data)\n",
    "    \n",
    "    # Topic Modeling\n",
    "    print(f\"Performing topic modeling for {name}...\")\n",
    "    \n",
    "    # Process dataset with TopicModeling\n",
    "    df_topics = topic_modeling.run(df, name)\n",
    "\n",
    "    # Merge Results on `text`\n",
    "    print(f\"Merging results for {name}...\")\n",
    "    df_enriched = pd.merge(df_entities, df_topics, on=\"text\", how=\"inner\")\n",
    "    \n",
    "    # Save Enriched Dataset\n",
    "    enriched_path = os.path.join(output_dir, f\"{name}_full.parquet\")\n",
    "    df_enriched.to_parquet(enriched_path, index=False)\n",
    "    print(f\"Enriched dataset saved to: {enriched_path}\")\n",
    "    return df_enriched\n"
   ]
  },
  {
   "cell_type": "code",
   "execution_count": 6,
   "metadata": {},
   "outputs": [
    {
     "name": "stdout",
     "output_type": "stream",
     "text": [
      "Processing dataset: test\n",
      "Extracting entities for test...\n"
     ]
    },
    {
     "name": "stderr",
     "output_type": "stream",
     "text": [
      "Processing GLiNER Batches:   0%|          | 0/300 [00:00<?, ?docs/s]Asking to truncate to max_length but no maximum length is provided and the model has no predefined maximum length. Default to no truncation.\n",
      "Processing GLiNER Batches: 100%|██████████| 300/300 [05:59<00:00,  1.20s/docs]\n",
      "Processing spaCy Entities: 100%|██████████| 300/300 [00:02<00:00, 124.48docs/s]\n",
      "Processing Flair Entities: 100%|██████████| 300/300 [02:12<00:00,  2.26docs/s]\n"
     ]
    },
    {
     "name": "stdout",
     "output_type": "stream",
     "text": [
      "Performing topic modeling for test...\n"
     ]
    },
    {
     "name": "stderr",
     "output_type": "stream",
     "text": [
      "Fitting BERTopic model: 100%|██████████| 300/300 [00:00<00:00, 300882.64it/s]\n",
      "2025-01-14 18:14:15,015 - BERTopic - Embedding - Transforming documents to embeddings.\n",
      "Batches: 100%|██████████| 10/10 [00:03<00:00,  2.62it/s]\n",
      "2025-01-14 18:14:18,883 - BERTopic - Embedding - Completed ✓\n",
      "2025-01-14 18:14:18,884 - BERTopic - Dimensionality - Fitting the dimensionality reduction algorithm\n",
      "2025-01-14 18:14:31,866 - BERTopic - Dimensionality - Completed ✓\n",
      "2025-01-14 18:14:31,873 - BERTopic - Cluster - Start clustering the reduced embeddings\n",
      "2025-01-14 18:14:31,913 - BERTopic - Cluster - Completed ✓\n",
      "2025-01-14 18:14:31,927 - BERTopic - Representation - Extracting topics from clusters using representation models.\n",
      "2025-01-14 18:14:32,012 - BERTopic - Representation - Completed ✓\n"
     ]
    },
    {
     "name": "stdout",
     "output_type": "stream",
     "text": [
      "Error in topic modeling for test: zero-size array to reduction operation maximum which has no identity\n",
      "Merging results for test...\n",
      "Enriched dataset saved to: data/enriched/test_full.parquet\n"
     ]
    }
   ],
   "source": [
    "for name, path in datasets_file_paths.items():\n",
    "    enrich_dataset(name, path)    "
   ]
  }
 ],
 "metadata": {
  "kernelspec": {
   "display_name": "venv",
   "language": "python",
   "name": "python3"
  },
  "language_info": {
   "codemirror_mode": {
    "name": "ipython",
    "version": 3
   },
   "file_extension": ".py",
   "mimetype": "text/x-python",
   "name": "python",
   "nbconvert_exporter": "python",
   "pygments_lexer": "ipython3",
   "version": "3.12.0"
  }
 },
 "nbformat": 4,
 "nbformat_minor": 2
}
